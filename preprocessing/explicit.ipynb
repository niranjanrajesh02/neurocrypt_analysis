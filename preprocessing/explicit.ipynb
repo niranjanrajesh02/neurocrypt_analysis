{
 "cells": [
  {
   "cell_type": "code",
   "execution_count": 1,
   "metadata": {},
   "outputs": [],
   "source": [
    "import pandas as pd"
   ]
  },
  {
   "cell_type": "code",
   "execution_count": null,
   "metadata": {},
   "outputs": [],
   "source": [
    "auth_data = pd.read_csv('./data/auth_data.csv')\n",
    "\n"
   ]
  },
  {
   "cell_type": "markdown",
   "metadata": {},
   "source": [
    "### Sequence Maps\n",
    "\n",
    "S1 = 'sll' \\\n",
    "S2 = 'kjk' \\\n",
    "S3 = 'dkj' \\\n",
    "S4 and S5 are random"
   ]
  },
  {
   "cell_type": "markdown",
   "metadata": {},
   "source": [
    "TODO: create a df with following cols: \"email\", 5x \"rating for each sequence\", their pass seq rating"
   ]
  },
  {
   "cell_type": "markdown",
   "metadata": {},
   "source": [
    "pass seq rating can be obtained by cross referencing email_id to user_id in ```auth_data.csv``` and then using user_id to find the ```pass_seq``` from the json db file. (make sure to get rid of any invalid email_ids if any)"
   ]
  },
  {
   "cell_type": "markdown",
   "metadata": {},
   "source": []
  },
  {
   "cell_type": "markdown",
   "metadata": {},
   "source": []
  }
 ],
 "metadata": {
  "kernelspec": {
   "display_name": "computer-vision",
   "language": "python",
   "name": "python3"
  },
  "language_info": {
   "codemirror_mode": {
    "name": "ipython",
    "version": 3
   },
   "file_extension": ".py",
   "mimetype": "text/x-python",
   "name": "python",
   "nbconvert_exporter": "python",
   "pygments_lexer": "ipython3",
   "version": "3.9.16"
  }
 },
 "nbformat": 4,
 "nbformat_minor": 2
}
